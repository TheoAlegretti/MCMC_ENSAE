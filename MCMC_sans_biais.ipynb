{
 "cells": [
  {
   "cell_type": "markdown",
   "id": "5b351f1d",
   "metadata": {},
   "source": [
    "# MONTE CARLO - MCMC SANS BIAIS"
   ]
  },
  {
   "cell_type": "markdown",
   "id": "41d75459",
   "metadata": {},
   "source": [
    "#### Importation des packages "
   ]
  },
  {
   "cell_type": "code",
   "execution_count": 2,
   "id": "72d08a52",
   "metadata": {},
   "outputs": [],
   "source": [
    "import numpy as np\n",
    "from scipy import stats\n",
    "from scipy.stats import invgamma\n",
    "from scipy.special import gamma\n",
    "from scipy.stats import gamma\n",
    "import plotly as plt \n",
    "import plotly.graph_objects as go\n",
    "import pandas as pd \n",
    "import random \n",
    "import plotly.express as px \n",
    "from scipy.stats import norm\n",
    "import numpy as np\n",
    "import scipy.stats as st"
   ]
  },
  {
   "cell_type": "markdown",
   "id": "d3ee1b94",
   "metadata": {},
   "source": [
    "# Question 1"
   ]
  },
  {
   "cell_type": "markdown",
   "id": "6094d8d5",
   "metadata": {},
   "source": [
    "## Introduction\n",
    "\n"
   ]
  },
  {
   "cell_type": "markdown",
   "id": "56b59fe8",
   "metadata": {},
   "source": [
    "#### 1) Objectif\n",
    "\n",
    "Mise en place de l'algorithme de Gibbs proposé dans la question C de l'article\n",
    "\n",
    "\n",
    "#### 2) Enoncé \n",
    "\n",
    "Dans le modèle, chaque Zn est supposé suivre une loi normale N(θn, V ) où V est fixé à 0,00434. Ensuite, θn est supposé suivre une loi normale N(μ, A), et A suit une Gamma inverse (a, b), avec a = -1 et b = 2. Enfin, la valeur initiale de l'algorithme de Gibbs est la moyenne empirique des (Zn)\n",
    "\n",
    "Les (Zn) n = [1,18] correspondent aux \"moyennes à la bate\"\n",
    "\n",
    "NB : La moyenne à la batte est égal au rapport du nombre de coups sûrs sur le nombre de présences au bâton "
   ]
  },
  {
   "cell_type": "code",
   "execution_count": 3,
   "id": "22c212e2",
   "metadata": {},
   "outputs": [],
   "source": [
    "# Données enoncé\n",
    "\n",
    "Z = np.array([0.395, 0.375, 0.355, 0.334, 0.313, 0.313, 0.291, 0.269, 0.247, 0.247, 0.224, 0.224,\n",
    "              0.224, 0.224, 0.224, 0.200, 0.175, 0.148])\n",
    "\n",
    "V = 0.00434"
   ]
  },
  {
   "cell_type": "markdown",
   "id": "5d690265",
   "metadata": {},
   "source": [
    "## a) Fonctions"
   ]
  },
  {
   "cell_type": "code",
   "execution_count": 4,
   "id": "b0b387a7",
   "metadata": {},
   "outputs": [],
   "source": [
    "# Densité d'une loi Gamma inverse \n",
    "\n",
    "class invgamma(stats.rv_continuous):\n",
    "    \n",
    "    def _pdf(x,alpha,beta):\n",
    "        px = (beta**alpha)/gamma(alpha)*x**(-alpha-1)*np.exp(-beta/x)\n",
    "        return px\n",
    " \n",
    "    \n",
    "# Algorithme de Gibbs     \n",
    "    \n",
    "def Gibbs(N,Z,V):\n",
    "    #initiation\n",
    "    the = np.empty((N+1,len(Z)))\n",
    "    A = np.empty((N+1,1))\n",
    "    mu = np.empty((N+1,1))\n",
    "    the[0] = Z.mean()\n",
    "    A[0] =  invgamma.rvs(size=1, alpha = 7.5, beta = 2 + np.var(the[0])/2)\n",
    "    mu[0] = np.random.normal(loc = the[0].mean(),scale = A[0]/len(Z))\n",
    "    for k in range (0,N,1):\n",
    "        the[k+1] = np.random.normal(loc = ((mu[k]*V+Z*A[k])/(V+A[k])),scale = (A[k]*V)/(A[k]+V))\n",
    "        A[k+1] =  invgamma.rvs(size=1, alpha = 7.5, beta = 2 + np.var(the[k])/2)\n",
    "        mu[k+1] = np.random.normal(loc = the[k].mean(),scale = A[k]/len(Z))\n",
    "    return([the,A,mu])\n",
    "\n",
    "\n",
    "# Représentation Graphique des output de l'algorithme de Gibbs\n",
    "\n",
    "def graph(DataFrame):\n",
    "    fig = go.Figure()  \n",
    "    t = []\n",
    "    for col in DataFrame.columns : \n",
    "        t.append(DataFrame[col].mean())\n",
    "    for i in range(0,N,1):\n",
    "        fig.add_scattergl(x=list(range(1,len(Z)+1)), y=sample[i])\n",
    "    fig.add_scattergl(x=list(range(1,len(Z)+1)), y=t,line={'color': 'black'})\n",
    "    fig.add_scattergl(x=list(range(1,len(Z)+1)), y=Z,line={'color': 'red'})\n",
    "    fig.show()"
   ]
  },
  {
   "cell_type": "markdown",
   "id": "8b292077",
   "metadata": {},
   "source": [
    "# [Erreur sur le invgamma.rvs ; à ajouter dans la Class ?? ]"
   ]
  },
  {
   "cell_type": "markdown",
   "id": "837e8123",
   "metadata": {},
   "source": [
    "## b) Implémentation - Graphiques"
   ]
  },
  {
   "cell_type": "markdown",
   "id": "5967c609",
   "metadata": {},
   "source": [
    "#### Représentation graphique de [ à compléter] "
   ]
  },
  {
   "cell_type": "code",
   "execution_count": null,
   "id": "f2e8678c",
   "metadata": {},
   "outputs": [],
   "source": [
    "N = 1000 \n",
    "sample = Gibbs(N,Z,V)\n",
    "graph(pd.DataFrame(sample[0]))\n",
    "\n",
    "#fig = go.Figure()\n",
    "#fig.add_scattergl(x=list(range(1,len(Z)+1)), y=t,line={'color': 'black'})\n",
    "#fig.add_scattergl(x=list(range(1,len(Z)+1)), y=Z,line={'color': 'red'})\n",
    "#fig.show()"
   ]
  },
  {
   "cell_type": "markdown",
   "id": "780d48d7",
   "metadata": {},
   "source": [
    "#### Histogrammes de A et μ "
   ]
  },
  {
   "cell_type": "code",
   "execution_count": null,
   "id": "33214e17",
   "metadata": {},
   "outputs": [],
   "source": [
    "df1 = pd.DataFrame(sample[1])\n",
    "fig = px.histogram(df1, x=0) \n",
    "fig.show()\n",
    "\n",
    "df2 = pd.DataFrame(sample[2])\n",
    "fig = px.histogram(df2, x=0) \n",
    "fig.show()"
   ]
  },
  {
   "cell_type": "markdown",
   "id": "73062f12",
   "metadata": {},
   "source": [
    "# [Interprétation et peut-être tableau de coût variance]"
   ]
  },
  {
   "cell_type": "markdown",
   "id": "97697df9",
   "metadata": {},
   "source": [
    "# Question 2 "
   ]
  },
  {
   "cell_type": "markdown",
   "id": "1be09a81",
   "metadata": {},
   "source": [
    "### Algorithme d'acceptation - rejet : \n",
    "\n",
    "#### 1) Objectif : \n",
    "\n",
    "La méthode de rejet est utilisée pour simuler indirectement une variable aléatoire X, de densité de probabilité f, lorsqu'on ne sait pas simuler directement la loi de densité de probabilité f\n",
    "\n",
    "\n",
    "#### 2) Méthode : \n",
    "\n",
    "Supposons une densité f à simuler. Le principe de la méthode consiste à imiter f par une\n",
    "densité g facilement simulable. Soit g cette densité que l’on sait simuler. Supposons f(x) ≤\n",
    "Mg(x), M > 1.\n",
    "\n",
    "La procédure fournit des variables aléatoires distribuées suivant f : \n",
    "    \n",
    "    1. Générer x ∼ g, u ∼ U[0,1];\n",
    "    \n",
    "    2. Si u ≤ f(x)/Mg(x), accepter y = x ;\n",
    "    \n",
    "    sinon retourner en 1.\n",
    "    \n",
    "### Maximal coupling \n",
    "\n",
    "#### 1) Objectif : \n",
    "\n",
    "Un maximal coupling entre deux distributions p et q sur un espace X est une distribution d'un couple de variables aléatoires (X,Y) qui maximise P(X=Y), sous réserve des contraintes marginales X∼p et Y ∼ q. L'algorithme permet donc de simuler une simulation la loi jointe de 2 variables X et Y à partir de leur distribution marginale. \n",
    "\n",
    "\n",
    "#### 2) Méthode : \n",
    "\n",
    "    1. Echantilloner X ∼ p et Echantilloner W|X ∼ U([0,p(X)]). Si W ≤ q(X), retourner (X,X).\n",
    "    \n",
    "    2. Sinon, Echantilloner Y⋆ ∼q et W⋆|Y⋆ ∼U([0,q(Y⋆)]) jusqu'à ce que W⋆ > p(Y⋆), et retourner(X,Y⋆)\n",
    "\n",
    "\n",
    "### Lien entre les deux méthodes  \n",
    "\n",
    "L'étape 2 de l'algorithme de maximal coupling utilise la méthode classique d'acceptation rejet.\n",
    "\n"
   ]
  },
  {
   "cell_type": "markdown",
   "id": "3698976c",
   "metadata": {},
   "source": [
    "# [Explication page 11 du papier à synthétiser]"
   ]
  },
  {
   "attachments": {
    "Capture%20d%E2%80%99e%CC%81cran%202022-05-05%20a%CC%80%2018.48.38.png": {
     "image/png": "[encoded data removed]"
    }
   },
   "cell_type": "markdown",
   "id": "d9325562",
   "metadata": {},
   "source": [
    "## Illustration du Maximal coupling \n",
    "\n",
    "Pour comprendre l'algorithme, regardons le graphique suivant, où les fonctions de densité de p et q sont tracées avec une zone ombrée sous la courbe x -> min(p(x),q(x)). L'algorithme essaie d'abord d'échantillonner à partir de la distribution représentée par la zone ombrée, et s'il n'y parvient pas, il échantillonne Y à partir du reste qui a une densité x -> q(x) - min(p(x),q(x)), jusqu'à une constante de normalisation. \n",
    "\n",
    "\n",
    "\n",
    "![Capture%20d%E2%80%99e%CC%81cran%202022-05-05%20a%CC%80%2018.48.38.png](attachment:Capture%20d%E2%80%99e%CC%81cran%202022-05-05%20a%CC%80%2018.48.38.png)"
   ]
  },
  {
   "cell_type": "code",
   "execution_count": null,
   "id": "2d06f499",
   "metadata": {},
   "outputs": [],
   "source": [
    "def maximal_coupling():\n",
    "    X = gamma.rvs(1)\n",
    "    W = norm.rvs(loc=0,scale=1) * gamma.pdf(X,a=1)\n",
    "    if W < norm.pdf(X,loc=1,scale=1):\n",
    "        return X, X\n",
    "    else:\n",
    "        while True:\n",
    "            Y = norm.rvs(loc=1,scale=1)\n",
    "            W = norm.rvs(loc=0,scale=1) * norm.pdf(Y,loc=1,scale=1)\n",
    "            if W > gamma.pdf(Y,a=1):\n",
    "                return [X,Y]\n",
    "\n",
    "\n",
    "listXY = pd.DataFrame([maximal_coupling() for _ in range (10000)])\n",
    "\n",
    "\n",
    "plot = px.Figure(data=[px.Scatter( x = listXY[0], y = listXY[1], mode = 'markers',) ]) \n",
    "plot.show()"
   ]
  },
  {
   "cell_type": "code",
   "execution_count": null,
   "id": "24ee46c6",
   "metadata": {},
   "outputs": [],
   "source": [
    "def maximal_coupling2():\n",
    "    X = norm.rvs(loc=0,scale=1)\n",
    "    W = norm.rvs(loc=0,scale=1) * norm.pdf(X,loc=0,scale=1)\n",
    "    if W < norm.pdf(X,loc=0,scale=1):\n",
    "        return X, X\n",
    "    else:\n",
    "        while True:\n",
    "            Y = norm.rvs(loc=0,scale=1)\n",
    "            W = norm.rvs(loc=0,scale=1) * norm.pdf(Y,loc=0,scale=1)\n",
    "            if W > norm.pdf(Y,loc=0,scale=1):\n",
    "                return [X,Y]\n",
    "\n",
    "\n",
    "listXY = pd.DataFrame([maximal_coupling2() for _ in range (10000)])\n",
    "\n",
    "\n",
    "plot = px.Figure(data=[px.Scatter( x = listXY[0], y = listXY[1], mode = 'markers',) ]) \n",
    "plot.show()"
   ]
  },
  {
   "cell_type": "markdown",
   "id": "09c3129c",
   "metadata": {},
   "source": [
    "# Question 3 "
   ]
  },
  {
   "cell_type": "code",
   "execution_count": null,
   "id": "dc1d9a87",
   "metadata": {},
   "outputs": [],
   "source": []
  }
 ],
 "metadata": {
  "kernelspec": {
   "display_name": "Python 3",
   "language": "python",
   "name": "python3"
  },
  "language_info": {
   "codemirror_mode": {
    "name": "ipython",
    "version": 3
   },
   "file_extension": ".py",
   "mimetype": "text/x-python",
   "name": "python",
   "nbconvert_exporter": "python",
   "pygments_lexer": "ipython3",
   "version": "3.8.8"
  }
 },
 "nbformat": 4,
 "nbformat_minor": 5
}
